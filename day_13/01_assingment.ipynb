{
 "cells": [
  {
   "cell_type": "markdown",
   "metadata": {},
   "source": [
    "# Y-data profiling Assignment01"
   ]
  },
  {
   "cell_type": "markdown",
   "metadata": {},
   "source": []
  },
  {
   "cell_type": "code",
   "execution_count": 2,
   "metadata": {},
   "outputs": [],
   "source": [
    "import pandas as pd\n",
    "import ydata_profiling as yd"
   ]
  },
  {
   "cell_type": "code",
   "execution_count": 9,
   "metadata": {},
   "outputs": [],
   "source": [
    "# import data set\n",
    "df = pd.read_csv(\"./data/World_Nuclear_Power_Reactors.csv\")"
   ]
  },
  {
   "cell_type": "code",
   "execution_count": 5,
   "metadata": {},
   "outputs": [
    {
     "data": {
      "application/vnd.jupyter.widget-view+json": {
       "model_id": "db61d5d75f2d4b40b08e897a9115abd0",
       "version_major": 2,
       "version_minor": 0
      },
      "text/plain": [
       "Summarize dataset:   0%|          | 0/5 [00:00<?, ?it/s]"
      ]
     },
     "metadata": {},
     "output_type": "display_data"
    },
    {
     "data": {
      "application/vnd.jupyter.widget-view+json": {
       "model_id": "729c5bd14c104aa383e738ba2727cb0d",
       "version_major": 2,
       "version_minor": 0
      },
      "text/plain": [
       "Generate report structure:   0%|          | 0/1 [00:00<?, ?it/s]"
      ]
     },
     "metadata": {},
     "output_type": "display_data"
    },
    {
     "data": {
      "application/vnd.jupyter.widget-view+json": {
       "model_id": "47e7c13a490d495cb822481bb128eadb",
       "version_major": 2,
       "version_minor": 0
      },
      "text/plain": [
       "Render HTML:   0%|          | 0/1 [00:00<?, ?it/s]"
      ]
     },
     "metadata": {},
     "output_type": "display_data"
    },
    {
     "data": {
      "application/vnd.jupyter.widget-view+json": {
       "model_id": "220d3a3e52104014b5671ced95df84e9",
       "version_major": 2,
       "version_minor": 0
      },
      "text/plain": [
       "Export report to file:   0%|          | 0/1 [00:00<?, ?it/s]"
      ]
     },
     "metadata": {},
     "output_type": "display_data"
    }
   ],
   "source": [
    "profile = yd.ProfileReport(df)\n",
    "profile.to_file(\"./outputs/world_rectors.html\")"
   ]
  },
  {
   "cell_type": "code",
   "execution_count": 10,
   "metadata": {},
   "outputs": [
    {
     "data": {
      "text/plain": [
       "Index(['Location', 'Reactor Name', 'Model', 'Reactor Type',\n",
       "       'Net Capacity (MWe)', 'Construction Start', 'First Grid Connection',\n",
       "       'Status', 'Country', 'Unnamed: 9'],\n",
       "      dtype='object')"
      ]
     },
     "execution_count": 10,
     "metadata": {},
     "output_type": "execute_result"
    }
   ],
   "source": [
    "df.columns"
   ]
  },
  {
   "cell_type": "code",
   "execution_count": 11,
   "metadata": {},
   "outputs": [
    {
     "data": {
      "text/plain": [
       "Index(['Location', 'Reactor Name', 'Model', 'Reactor Type',\n",
       "       'Net Capacity (MWe)', 'Construction Start', 'First Grid Connection',\n",
       "       'Status', 'Country'],\n",
       "      dtype='object')"
      ]
     },
     "execution_count": 11,
     "metadata": {},
     "output_type": "execute_result"
    }
   ],
   "source": [
    "# Unnamed: 9 column has no value so drop it\n",
    "df.drop('Unnamed: 9', axis=1, inplace=True)\n",
    "df.columns"
   ]
  },
  {
   "cell_type": "code",
   "execution_count": 13,
   "metadata": {},
   "outputs": [
    {
     "data": {
      "text/plain": [
       "Location                 69.471947\n",
       "Reactor Name              0.825083\n",
       "Model                    26.237624\n",
       "Reactor Type              2.475248\n",
       "Net Capacity (MWe)        0.165017\n",
       "Construction Start       38.118812\n",
       "First Grid Connection    24.752475\n",
       "Status                    0.000000\n",
       "Country                   0.000000\n",
       "dtype: float64"
      ]
     },
     "execution_count": 13,
     "metadata": {},
     "output_type": "execute_result"
    }
   ],
   "source": [
    "# check missing values\n",
    "df.isnull().sum() / len(df) *100"
   ]
  },
  {
   "cell_type": "code",
   "execution_count": 14,
   "metadata": {},
   "outputs": [
    {
     "data": {
      "text/plain": [
       "Index(['Reactor Name', 'Model', 'Reactor Type', 'Net Capacity (MWe)',\n",
       "       'Construction Start', 'First Grid Connection', 'Status', 'Country'],\n",
       "      dtype='object')"
      ]
     },
     "execution_count": 14,
     "metadata": {},
     "output_type": "execute_result"
    }
   ],
   "source": [
    "# Location has 69% missing values so we are going to drop it\n",
    "df.drop('Location', axis=1, inplace=True)\n",
    "df.columns"
   ]
  },
  {
   "cell_type": "code",
   "execution_count": 15,
   "metadata": {},
   "outputs": [
    {
     "data": {
      "text/plain": [
       "Reactor Name              0.825083\n",
       "Model                    26.237624\n",
       "Reactor Type              2.475248\n",
       "Net Capacity (MWe)        0.165017\n",
       "Construction Start       38.118812\n",
       "First Grid Connection    24.752475\n",
       "Status                    0.000000\n",
       "Country                   0.000000\n",
       "dtype: float64"
      ]
     },
     "execution_count": 15,
     "metadata": {},
     "output_type": "execute_result"
    }
   ],
   "source": [
    "# check missing values\n",
    "df.isnull().sum() / len(df) *100"
   ]
  },
  {
   "cell_type": "code",
   "execution_count": 18,
   "metadata": {},
   "outputs": [
    {
     "data": {
      "text/plain": [
       "(606, 8)"
      ]
     },
     "execution_count": 18,
     "metadata": {},
     "output_type": "execute_result"
    }
   ],
   "source": [
    "df.shape"
   ]
  },
  {
   "cell_type": "code",
   "execution_count": 19,
   "metadata": {},
   "outputs": [],
   "source": [
    "from skimpy import skim"
   ]
  },
  {
   "cell_type": "code",
   "execution_count": 20,
   "metadata": {},
   "outputs": [
    {
     "name": "stdout",
     "output_type": "stream",
     "text": [
      "╭─────────────────────────────── skimpy summary ───────────────────────────────╮\n",
      "│ \u001b[3m         Data Summary         \u001b[0m \u001b[3m      Data Types       \u001b[0m                       │\n",
      "│ ┏━━━━━━━━━━━━━━━━━━━┳━━━━━━━━┓ ┏━━━━━━━━━━━━━┳━━━━━━━┓                       │\n",
      "│ ┃\u001b[1;36m \u001b[0m\u001b[1;36mdataframe        \u001b[0m\u001b[1;36m \u001b[0m┃\u001b[1;36m \u001b[0m\u001b[1;36mValues\u001b[0m\u001b[1;36m \u001b[0m┃ ┃\u001b[1;36m \u001b[0m\u001b[1;36mColumn Type\u001b[0m\u001b[1;36m \u001b[0m┃\u001b[1;36m \u001b[0m\u001b[1;36mCount\u001b[0m\u001b[1;36m \u001b[0m┃                       │\n",
      "│ ┡━━━━━━━━━━━━━━━━━━━╇━━━━━━━━┩ ┡━━━━━━━━━━━━━╇━━━━━━━┩                       │\n",
      "│ │ Number of rows    │ 606    │ │ string      │ 8     │                       │\n",
      "│ │ Number of columns │ 8      │ └─────────────┴───────┘                       │\n",
      "│ └───────────────────┴────────┘                                               │\n",
      "│ \u001b[3m                                  string                                   \u001b[0m  │\n",
      "│ ┏━━━━━━━━━━━━━━━━━━━━━━━━━┳━━━━━━┳━━━━━━━━┳━━━━━━━━━━━━━━━━━┳━━━━━━━━━━━━━┓  │\n",
      "│ ┃\u001b[1m \u001b[0m\u001b[1mcolumn_name            \u001b[0m\u001b[1m \u001b[0m┃\u001b[1m \u001b[0m\u001b[1mNA  \u001b[0m\u001b[1m \u001b[0m┃\u001b[1m \u001b[0m\u001b[1mNA %  \u001b[0m\u001b[1m \u001b[0m┃\u001b[1m \u001b[0m\u001b[1mwords per row  \u001b[0m\u001b[1m \u001b[0m┃\u001b[1m \u001b[0m\u001b[1mtotal words\u001b[0m\u001b[1m \u001b[0m┃  │\n",
      "│ ┡━━━━━━━━━━━━━━━━━━━━━━━━━╇━━━━━━╇━━━━━━━━╇━━━━━━━━━━━━━━━━━╇━━━━━━━━━━━━━┩  │\n",
      "│ │ \u001b[37mReactor Name           \u001b[0m │ \u001b[36m   5\u001b[0m │ \u001b[36m  0.83\u001b[0m │ \u001b[36m            2.1\u001b[0m │ \u001b[36m       1299\u001b[0m │  │\n",
      "│ │ \u001b[37mModel                  \u001b[0m │ \u001b[36m 159\u001b[0m │ \u001b[36m 26.24\u001b[0m │ \u001b[36m            1.2\u001b[0m │ \u001b[36m        716\u001b[0m │  │\n",
      "│ │ \u001b[37mReactor Type           \u001b[0m │ \u001b[36m  15\u001b[0m │ \u001b[36m  2.48\u001b[0m │ \u001b[36m              1\u001b[0m │ \u001b[36m        609\u001b[0m │  │\n",
      "│ │ \u001b[37mNet Capacity (MWe)     \u001b[0m │ \u001b[36m   1\u001b[0m │ \u001b[36m  0.17\u001b[0m │ \u001b[36m            1.1\u001b[0m │ \u001b[36m        669\u001b[0m │  │\n",
      "│ │ \u001b[37mConstruction Start     \u001b[0m │ \u001b[36m 231\u001b[0m │ \u001b[36m 38.12\u001b[0m │ \u001b[36m           0.63\u001b[0m │ \u001b[36m        383\u001b[0m │  │\n",
      "│ │ \u001b[37mFirst Grid Connection  \u001b[0m │ \u001b[36m 150\u001b[0m │ \u001b[36m 24.75\u001b[0m │ \u001b[36m           0.94\u001b[0m │ \u001b[36m        567\u001b[0m │  │\n",
      "│ │ \u001b[37mStatus                 \u001b[0m │ \u001b[36m   0\u001b[0m │ \u001b[36m     0\u001b[0m │ \u001b[36m            1.2\u001b[0m │ \u001b[36m        723\u001b[0m │  │\n",
      "│ │ \u001b[37mCountry                \u001b[0m │ \u001b[36m   0\u001b[0m │ \u001b[36m     0\u001b[0m │ \u001b[36m            1.1\u001b[0m │ \u001b[36m        666\u001b[0m │  │\n",
      "│ └─────────────────────────┴──────┴────────┴─────────────────┴─────────────┘  │\n",
      "╰──────────────────────────────────── End ─────────────────────────────────────╯\n"
     ]
    }
   ],
   "source": [
    "skim(df)"
   ]
  },
  {
   "cell_type": "code",
   "execution_count": 23,
   "metadata": {},
   "outputs": [
    {
     "data": {
      "text/plain": [
       "7"
      ]
     },
     "execution_count": 23,
     "metadata": {},
     "output_type": "execute_result"
    }
   ],
   "source": [
    "# check duplicate values\n",
    "df.duplicated().sum()"
   ]
  },
  {
   "cell_type": "code",
   "execution_count": 30,
   "metadata": {},
   "outputs": [],
   "source": [
    "df.drop_duplicates(inplace=True)"
   ]
  },
  {
   "cell_type": "code",
   "execution_count": 32,
   "metadata": {},
   "outputs": [
    {
     "ename": "ValueError",
     "evalue": "ClassSelector parameter None value must be an instance of (function, tuple), not <function size at 0x107981eb0>.",
     "output_type": "error",
     "traceback": [
      "\u001b[0;31m---------------------------------------------------------------------------\u001b[0m",
      "\u001b[0;31mValueError\u001b[0m                                Traceback (most recent call last)",
      "\u001b[1;32m/Users/sami/Desktop/Data_Science_and_AI_6_month_mentorship/day_13/01_assingment.ipynb Cell 16\u001b[0m line \u001b[0;36m1\n\u001b[0;32m----> <a href='vscode-notebook-cell:/Users/sami/Desktop/Data_Science_and_AI_6_month_mentorship/day_13/01_assingment.ipynb#X23sZmlsZQ%3D%3D?line=0'>1</a>\u001b[0m \u001b[39mfrom\u001b[39;00m \u001b[39mautoviz\u001b[39;00m \u001b[39mimport\u001b[39;00m AutoViz_Class\n\u001b[1;32m      <a href='vscode-notebook-cell:/Users/sami/Desktop/Data_Science_and_AI_6_month_mentorship/day_13/01_assingment.ipynb#X23sZmlsZQ%3D%3D?line=1'>2</a>\u001b[0m AV \u001b[39m=\u001b[39m AutoViz_Class()\n\u001b[1;32m      <a href='vscode-notebook-cell:/Users/sami/Desktop/Data_Science_and_AI_6_month_mentorship/day_13/01_assingment.ipynb#X23sZmlsZQ%3D%3D?line=2'>3</a>\u001b[0m dft \u001b[39m=\u001b[39m AV\u001b[39m.\u001b[39mAutoViz(df)\n",
      "File \u001b[0;32m~/miniconda3/envs/yda_profiling/lib/python3.10/site-packages/autoviz/__init__.py:3\u001b[0m\n\u001b[1;32m      1\u001b[0m name \u001b[39m=\u001b[39m \u001b[39m\"\u001b[39m\u001b[39mautoviz\u001b[39m\u001b[39m\"\u001b[39m\n\u001b[1;32m      2\u001b[0m \u001b[39mfrom\u001b[39;00m \u001b[39m.\u001b[39;00m\u001b[39m__version__\u001b[39;00m \u001b[39mimport\u001b[39;00m __version__, __holo_version__\n\u001b[0;32m----> 3\u001b[0m \u001b[39mfrom\u001b[39;00m \u001b[39m.\u001b[39;00m\u001b[39mAutoViz_Class\u001b[39;00m \u001b[39mimport\u001b[39;00m AutoViz_Class\n\u001b[1;32m      4\u001b[0m \u001b[39mfrom\u001b[39;00m \u001b[39m.\u001b[39;00m\u001b[39mAutoViz_Class\u001b[39;00m \u001b[39mimport\u001b[39;00m data_cleaning_suggestions\n\u001b[1;32m      5\u001b[0m \u001b[39mfrom\u001b[39;00m \u001b[39m.\u001b[39;00m\u001b[39mAutoViz_Class\u001b[39;00m \u001b[39mimport\u001b[39;00m FixDQ\n",
      "File \u001b[0;32m~/miniconda3/envs/yda_profiling/lib/python3.10/site-packages/autoviz/AutoViz_Class.py:61\u001b[0m\n\u001b[1;32m     59\u001b[0m \u001b[39mfrom\u001b[39;00m \u001b[39msklearn\u001b[39;00m\u001b[39m.\u001b[39;00m\u001b[39mmodel_selection\u001b[39;00m \u001b[39mimport\u001b[39;00m train_test_split\n\u001b[1;32m     60\u001b[0m \u001b[39m##########################################################################################\u001b[39;00m\n\u001b[0;32m---> 61\u001b[0m \u001b[39mfrom\u001b[39;00m \u001b[39mautoviz\u001b[39;00m\u001b[39m.\u001b[39;00m\u001b[39mAutoViz_Holo\u001b[39;00m \u001b[39mimport\u001b[39;00m AutoViz_Holo\n\u001b[1;32m     62\u001b[0m \u001b[39mfrom\u001b[39;00m \u001b[39mautoviz\u001b[39;00m\u001b[39m.\u001b[39;00m\u001b[39mAutoViz_Utils\u001b[39;00m \u001b[39mimport\u001b[39;00m save_image_data, save_html_data, analyze_problem_type, draw_pivot_tables, draw_scatters\n\u001b[1;32m     63\u001b[0m \u001b[39mfrom\u001b[39;00m \u001b[39mautoviz\u001b[39;00m\u001b[39m.\u001b[39;00m\u001b[39mAutoViz_Utils\u001b[39;00m \u001b[39mimport\u001b[39;00m draw_pair_scatters, plot_fast_average_num_by_cat, draw_barplots, draw_heatmap\n",
      "File \u001b[0;32m~/miniconda3/envs/yda_profiling/lib/python3.10/site-packages/autoviz/AutoViz_Holo.py:5\u001b[0m\n\u001b[1;32m      3\u001b[0m \u001b[39mimport\u001b[39;00m \u001b[39mpandas\u001b[39;00m \u001b[39mas\u001b[39;00m \u001b[39mpd\u001b[39;00m\n\u001b[1;32m      4\u001b[0m \u001b[39m############# Import from autoviz.AutoViz_Class the following libraries #######\u001b[39;00m\n\u001b[0;32m----> 5\u001b[0m \u001b[39mfrom\u001b[39;00m \u001b[39mautoviz\u001b[39;00m\u001b[39m.\u001b[39;00m\u001b[39mAutoViz_Utils\u001b[39;00m \u001b[39mimport\u001b[39;00m \u001b[39m*\u001b[39m\n\u001b[1;32m      6\u001b[0m \u001b[39m##############   make sure you use: conda install -c pyviz hvplot ###############\u001b[39;00m\n\u001b[1;32m      7\u001b[0m \u001b[39mimport\u001b[39;00m \u001b[39mhvplot\u001b[39;00m\u001b[39m.\u001b[39;00m\u001b[39mpandas\u001b[39;00m  \u001b[39m# noqa\u001b[39;00m\n",
      "File \u001b[0;32m~/miniconda3/envs/yda_profiling/lib/python3.10/site-packages/autoviz/AutoViz_Utils.py:61\u001b[0m\n\u001b[1;32m     59\u001b[0m \u001b[39mfrom\u001b[39;00m \u001b[39msklearn\u001b[39;00m\u001b[39m.\u001b[39;00m\u001b[39mmodel_selection\u001b[39;00m \u001b[39mimport\u001b[39;00m train_test_split\n\u001b[1;32m     60\u001b[0m \u001b[39m######## This is where we import HoloViews related libraries  #########\u001b[39;00m\n\u001b[0;32m---> 61\u001b[0m \u001b[39mimport\u001b[39;00m \u001b[39mhvplot\u001b[39;00m\u001b[39m.\u001b[39;00m\u001b[39mpandas\u001b[39;00m\n\u001b[1;32m     62\u001b[0m \u001b[39mimport\u001b[39;00m \u001b[39mholoviews\u001b[39;00m \u001b[39mas\u001b[39;00m \u001b[39mhv\u001b[39;00m\n\u001b[1;32m     63\u001b[0m \u001b[39mfrom\u001b[39;00m \u001b[39mholoviews\u001b[39;00m \u001b[39mimport\u001b[39;00m opts\n",
      "File \u001b[0;32m~/miniconda3/envs/yda_profiling/lib/python3.10/site-packages/hvplot/__init__.py:12\u001b[0m\n\u001b[1;32m      8\u001b[0m \u001b[39mimport\u001b[39;00m \u001b[39mholoviews\u001b[39;00m \u001b[39mas\u001b[39;00m \u001b[39m_hv\u001b[39;00m\n\u001b[1;32m     10\u001b[0m \u001b[39mfrom\u001b[39;00m \u001b[39mholoviews\u001b[39;00m \u001b[39mimport\u001b[39;00m Store\n\u001b[0;32m---> 12\u001b[0m \u001b[39mfrom\u001b[39;00m \u001b[39m.\u001b[39;00m\u001b[39mconverter\u001b[39;00m \u001b[39mimport\u001b[39;00m HoloViewsConverter\n\u001b[1;32m     13\u001b[0m \u001b[39mfrom\u001b[39;00m \u001b[39m.\u001b[39;00m\u001b[39mutil\u001b[39;00m \u001b[39mimport\u001b[39;00m get_ipy\n\u001b[1;32m     14\u001b[0m \u001b[39mfrom\u001b[39;00m \u001b[39m.\u001b[39;00m\u001b[39mutilities\u001b[39;00m \u001b[39mimport\u001b[39;00m save, show \u001b[39m# noqa\u001b[39;00m\n",
      "File \u001b[0;32m~/miniconda3/envs/yda_profiling/lib/python3.10/site-packages/hvplot/converter.py:25\u001b[0m\n\u001b[1;32m     18\u001b[0m \u001b[39mfrom\u001b[39;00m \u001b[39mholoviews\u001b[39;00m\u001b[39m.\u001b[39;00m\u001b[39mcore\u001b[39;00m\u001b[39m.\u001b[39;00m\u001b[39mutil\u001b[39;00m \u001b[39mimport\u001b[39;00m max_range, basestring\n\u001b[1;32m     19\u001b[0m \u001b[39mfrom\u001b[39;00m \u001b[39mholoviews\u001b[39;00m\u001b[39m.\u001b[39;00m\u001b[39melement\u001b[39;00m \u001b[39mimport\u001b[39;00m (\n\u001b[1;32m     20\u001b[0m     Curve, Scatter, Area, Bars, BoxWhisker, Dataset, Distribution,\n\u001b[1;32m     21\u001b[0m     Table, HeatMap, Image, HexTiles, QuadMesh, Bivariate, Histogram,\n\u001b[1;32m     22\u001b[0m     Violin, Contours, Polygons, Points, Path, Labels, RGB, ErrorBars,\n\u001b[1;32m     23\u001b[0m     VectorField, Rectangles, Segments\n\u001b[1;32m     24\u001b[0m )\n\u001b[0;32m---> 25\u001b[0m \u001b[39mfrom\u001b[39;00m \u001b[39mholoviews\u001b[39;00m\u001b[39m.\u001b[39;00m\u001b[39mplotting\u001b[39;00m\u001b[39m.\u001b[39;00m\u001b[39mbokeh\u001b[39;00m \u001b[39mimport\u001b[39;00m OverlayPlot, colormap_generator\n\u001b[1;32m     26\u001b[0m \u001b[39mfrom\u001b[39;00m \u001b[39mholoviews\u001b[39;00m\u001b[39m.\u001b[39;00m\u001b[39mplotting\u001b[39;00m\u001b[39m.\u001b[39;00m\u001b[39mutil\u001b[39;00m \u001b[39mimport\u001b[39;00m process_cmap\n\u001b[1;32m     27\u001b[0m \u001b[39mfrom\u001b[39;00m \u001b[39mholoviews\u001b[39;00m\u001b[39m.\u001b[39;00m\u001b[39moperation\u001b[39;00m \u001b[39mimport\u001b[39;00m histogram\n",
      "File \u001b[0;32m~/miniconda3/envs/yda_profiling/lib/python3.10/site-packages/holoviews/plotting/bokeh/__init__.py:40\u001b[0m\n\u001b[1;32m     38\u001b[0m \u001b[39mfrom\u001b[39;00m \u001b[39m.\u001b[39;00m\u001b[39mgraphs\u001b[39;00m \u001b[39mimport\u001b[39;00m GraphPlot, NodePlot, TriMeshPlot, ChordPlot\n\u001b[1;32m     39\u001b[0m \u001b[39mfrom\u001b[39;00m \u001b[39m.\u001b[39;00m\u001b[39mheatmap\u001b[39;00m \u001b[39mimport\u001b[39;00m HeatMapPlot, RadialHeatMapPlot\n\u001b[0;32m---> 40\u001b[0m \u001b[39mfrom\u001b[39;00m \u001b[39m.\u001b[39;00m\u001b[39mhex_tiles\u001b[39;00m \u001b[39mimport\u001b[39;00m HexTilesPlot\n\u001b[1;32m     41\u001b[0m \u001b[39mfrom\u001b[39;00m \u001b[39m.\u001b[39;00m\u001b[39mpath\u001b[39;00m \u001b[39mimport\u001b[39;00m PathPlot, PolygonPlot, ContourPlot\n\u001b[1;32m     42\u001b[0m \u001b[39mfrom\u001b[39;00m \u001b[39m.\u001b[39;00m\u001b[39mplot\u001b[39;00m \u001b[39mimport\u001b[39;00m GridPlot, LayoutPlot, AdjointLayoutPlot\n",
      "File \u001b[0;32m~/miniconda3/envs/yda_profiling/lib/python3.10/site-packages/holoviews/plotting/bokeh/hex_tiles.py:22\u001b[0m\n\u001b[1;32m     18\u001b[0m \u001b[39mfrom\u001b[39;00m \u001b[39m.\u001b[39;00m\u001b[39mselection\u001b[39;00m \u001b[39mimport\u001b[39;00m BokehOverlaySelectionDisplay\n\u001b[1;32m     19\u001b[0m \u001b[39mfrom\u001b[39;00m \u001b[39m.\u001b[39;00m\u001b[39mstyles\u001b[39;00m \u001b[39mimport\u001b[39;00m base_properties, line_properties, fill_properties\n\u001b[0;32m---> 22\u001b[0m \u001b[39mclass\u001b[39;00m \u001b[39mhex_binning\u001b[39;00m(Operation):\n\u001b[1;32m     23\u001b[0m \u001b[39m    \u001b[39m\u001b[39m\"\"\"\u001b[39;00m\n\u001b[1;32m     24\u001b[0m \u001b[39m    Applies hex binning by computing aggregates on a hexagonal grid.\u001b[39;00m\n\u001b[1;32m     25\u001b[0m \n\u001b[1;32m     26\u001b[0m \u001b[39m    Should not be user facing as the returned element is not directly\u001b[39;00m\n\u001b[1;32m     27\u001b[0m \u001b[39m    useable.\u001b[39;00m\n\u001b[1;32m     28\u001b[0m \u001b[39m    \"\"\"\u001b[39;00m\n\u001b[1;32m     30\u001b[0m     aggregator \u001b[39m=\u001b[39m param\u001b[39m.\u001b[39mClassSelector(\n\u001b[1;32m     31\u001b[0m         default\u001b[39m=\u001b[39mnp\u001b[39m.\u001b[39msize, class_\u001b[39m=\u001b[39m(types\u001b[39m.\u001b[39mFunctionType, \u001b[39mtuple\u001b[39m), doc\u001b[39m=\u001b[39m\u001b[39m\"\"\"\u001b[39m\n\u001b[1;32m     32\u001b[0m \u001b[39m      Aggregation function or dimension transform used to compute bin\u001b[39m\n\u001b[1;32m     33\u001b[0m \u001b[39m      values. Defaults to np.size to count the number of values\u001b[39m\n\u001b[1;32m     34\u001b[0m \u001b[39m      in each bin.\u001b[39m\u001b[39m\"\"\"\u001b[39m)\n",
      "File \u001b[0;32m~/miniconda3/envs/yda_profiling/lib/python3.10/site-packages/holoviews/plotting/bokeh/hex_tiles.py:30\u001b[0m, in \u001b[0;36mhex_binning\u001b[0;34m()\u001b[0m\n\u001b[1;32m     22\u001b[0m \u001b[39mclass\u001b[39;00m \u001b[39mhex_binning\u001b[39;00m(Operation):\n\u001b[1;32m     23\u001b[0m \u001b[39m    \u001b[39m\u001b[39m\"\"\"\u001b[39;00m\n\u001b[1;32m     24\u001b[0m \u001b[39m    Applies hex binning by computing aggregates on a hexagonal grid.\u001b[39;00m\n\u001b[1;32m     25\u001b[0m \n\u001b[1;32m     26\u001b[0m \u001b[39m    Should not be user facing as the returned element is not directly\u001b[39;00m\n\u001b[1;32m     27\u001b[0m \u001b[39m    useable.\u001b[39;00m\n\u001b[1;32m     28\u001b[0m \u001b[39m    \"\"\"\u001b[39;00m\n\u001b[0;32m---> 30\u001b[0m     aggregator \u001b[39m=\u001b[39m param\u001b[39m.\u001b[39;49mClassSelector(\n\u001b[1;32m     31\u001b[0m         default\u001b[39m=\u001b[39;49mnp\u001b[39m.\u001b[39;49msize, class_\u001b[39m=\u001b[39;49m(types\u001b[39m.\u001b[39;49mFunctionType, \u001b[39mtuple\u001b[39;49m), doc\u001b[39m=\u001b[39;49m\u001b[39m\"\"\"\u001b[39;49m\n\u001b[1;32m     32\u001b[0m \u001b[39m      Aggregation function or dimension transform used to compute bin\u001b[39;49m\n\u001b[1;32m     33\u001b[0m \u001b[39m      values. Defaults to np.size to count the number of values\u001b[39;49m\n\u001b[1;32m     34\u001b[0m \u001b[39m      in each bin.\u001b[39;49m\u001b[39m\"\"\"\u001b[39;49m)\n\u001b[1;32m     36\u001b[0m     gridsize \u001b[39m=\u001b[39m param\u001b[39m.\u001b[39mClassSelector(default\u001b[39m=\u001b[39m\u001b[39m50\u001b[39m, class_\u001b[39m=\u001b[39m(\u001b[39mint\u001b[39m, \u001b[39mtuple\u001b[39m))\n\u001b[1;32m     38\u001b[0m     invert_axes \u001b[39m=\u001b[39m param\u001b[39m.\u001b[39mBoolean(default\u001b[39m=\u001b[39m\u001b[39mFalse\u001b[39;00m)\n",
      "File \u001b[0;32m~/miniconda3/envs/yda_profiling/lib/python3.10/site-packages/param/__init__.py:1367\u001b[0m, in \u001b[0;36mClassSelector.__init__\u001b[0;34m(self, class_, default, instantiate, is_instance, **params)\u001b[0m\n\u001b[1;32m   1365\u001b[0m \u001b[39mself\u001b[39m\u001b[39m.\u001b[39mis_instance \u001b[39m=\u001b[39m is_instance\n\u001b[1;32m   1366\u001b[0m \u001b[39msuper\u001b[39m(ClassSelector,\u001b[39mself\u001b[39m)\u001b[39m.\u001b[39m\u001b[39m__init__\u001b[39m(default\u001b[39m=\u001b[39mdefault,instantiate\u001b[39m=\u001b[39minstantiate,\u001b[39m*\u001b[39m\u001b[39m*\u001b[39mparams)\n\u001b[0;32m-> 1367\u001b[0m \u001b[39mself\u001b[39;49m\u001b[39m.\u001b[39;49m_validate(default)\n",
      "File \u001b[0;32m~/miniconda3/envs/yda_profiling/lib/python3.10/site-packages/param/__init__.py:1371\u001b[0m, in \u001b[0;36mClassSelector._validate\u001b[0;34m(self, val)\u001b[0m\n\u001b[1;32m   1369\u001b[0m \u001b[39mdef\u001b[39;00m \u001b[39m_validate\u001b[39m(\u001b[39mself\u001b[39m, val):\n\u001b[1;32m   1370\u001b[0m     \u001b[39msuper\u001b[39m(ClassSelector, \u001b[39mself\u001b[39m)\u001b[39m.\u001b[39m_validate(val)\n\u001b[0;32m-> 1371\u001b[0m     \u001b[39mself\u001b[39;49m\u001b[39m.\u001b[39;49m_validate_class_(val, \u001b[39mself\u001b[39;49m\u001b[39m.\u001b[39;49mclass_, \u001b[39mself\u001b[39;49m\u001b[39m.\u001b[39;49mis_instance)\n",
      "File \u001b[0;32m~/miniconda3/envs/yda_profiling/lib/python3.10/site-packages/param/__init__.py:1383\u001b[0m, in \u001b[0;36mClassSelector._validate_class_\u001b[0;34m(self, val, class_, is_instance)\u001b[0m\n\u001b[1;32m   1381\u001b[0m \u001b[39mif\u001b[39;00m is_instance:\n\u001b[1;32m   1382\u001b[0m     \u001b[39mif\u001b[39;00m \u001b[39mnot\u001b[39;00m (\u001b[39misinstance\u001b[39m(val, class_)):\n\u001b[0;32m-> 1383\u001b[0m         \u001b[39mraise\u001b[39;00m \u001b[39mValueError\u001b[39;00m(\n\u001b[1;32m   1384\u001b[0m             \u001b[39m\"\u001b[39m\u001b[39m%s\u001b[39;00m\u001b[39m parameter \u001b[39m\u001b[39m%r\u001b[39;00m\u001b[39m value must be an instance of \u001b[39m\u001b[39m%s\u001b[39;00m\u001b[39m, not \u001b[39m\u001b[39m%r\u001b[39;00m\u001b[39m.\u001b[39m\u001b[39m\"\u001b[39m \u001b[39m%\u001b[39m\n\u001b[1;32m   1385\u001b[0m             (param_cls, \u001b[39mself\u001b[39m\u001b[39m.\u001b[39mname, class_name, val))\n\u001b[1;32m   1386\u001b[0m \u001b[39melse\u001b[39;00m:\n\u001b[1;32m   1387\u001b[0m     \u001b[39mif\u001b[39;00m \u001b[39mnot\u001b[39;00m (\u001b[39missubclass\u001b[39m(val, class_)):\n",
      "\u001b[0;31mValueError\u001b[0m: ClassSelector parameter None value must be an instance of (function, tuple), not <function size at 0x107981eb0>."
     ]
    }
   ],
   "source": [
    "from autoviz import AutoViz_Class\n",
    "AV = AutoViz_Class()\n",
    "dft = AV.AutoViz(df)\n"
   ]
  },
  {
   "cell_type": "code",
   "execution_count": null,
   "metadata": {},
   "outputs": [],
   "source": []
  }
 ],
 "metadata": {
  "kernelspec": {
   "display_name": "yda_profiling",
   "language": "python",
   "name": "python3"
  },
  "language_info": {
   "codemirror_mode": {
    "name": "ipython",
    "version": 3
   },
   "file_extension": ".py",
   "mimetype": "text/x-python",
   "name": "python",
   "nbconvert_exporter": "python",
   "pygments_lexer": "ipython3",
   "version": "3.10.13"
  }
 },
 "nbformat": 4,
 "nbformat_minor": 2
}
